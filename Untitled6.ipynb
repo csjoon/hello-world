{
  "nbformat": 4,
  "nbformat_minor": 0,
  "metadata": {
    "colab": {
      "name": "Untitled6.ipynb",
      "provenance": [],
      "collapsed_sections": [],
      "toc_visible": true,
      "authorship_tag": "ABX9TyOouRqFK2qEen0h1b2ddZCz",
      "include_colab_link": true
    },
    "kernelspec": {
      "name": "python3",
      "display_name": "Python 3"
    },
    "accelerator": "GPU"
  },
  "cells": [
    {
      "cell_type": "markdown",
      "metadata": {
        "id": "view-in-github",
        "colab_type": "text"
      },
      "source": [
        "<a href=\"https://colab.research.google.com/github/csjoon/hello-world/blob/master/Untitled6.ipynb\" target=\"_parent\"><img src=\"https://colab.research.google.com/assets/colab-badge.svg\" alt=\"Open In Colab\"/></a>"
      ]
    },
    {
      "cell_type": "code",
      "metadata": {
        "id": "_upGq2tU1R0x"
      },
      "source": [
        "!curl -L \"https://public.roboflow.com/ds/Dlv0duzMFJ?key=53viVYqANX\" > roboflow.zip; unzip roboflow.zip; rm roboflow.zip"
      ],
      "execution_count": null,
      "outputs": []
    },
    {
      "cell_type": "code",
      "metadata": {
        "colab": {
          "base_uri": "https://localhost:8080/"
        },
        "id": "YuLBxQH7-Udz",
        "outputId": "8faa8955-6b5e-4d26-de3f-e1014cd5a7d0"
      },
      "source": [
        "%cd /content/\n",
        "!git clone https://github.com/ultralytics/yolov5.git"
      ],
      "execution_count": 4,
      "outputs": [
        {
          "output_type": "stream",
          "text": [
            "/content\n",
            "Cloning into 'yolov5'...\n",
            "remote: Enumerating objects: 50, done.\u001b[K\n",
            "remote: Counting objects: 100% (50/50), done.\u001b[K\n",
            "remote: Compressing objects: 100% (40/40), done.\u001b[K\n",
            "remote: Total 3215 (delta 22), reused 25 (delta 9), pack-reused 3165\u001b[K\n",
            "Receiving objects: 100% (3215/3215), 6.49 MiB | 1.89 MiB/s, done.\n",
            "Resolving deltas: 100% (2137/2137), done.\n"
          ],
          "name": "stdout"
        }
      ]
    },
    {
      "cell_type": "code",
      "metadata": {
        "colab": {
          "base_uri": "https://localhost:8080/"
        },
        "id": "CniWsoEm-0IS",
        "outputId": "186c75ff-85b7-4fb5-df53-ebc2b6fc54b7"
      },
      "source": [
        "%cd /content/yolov5/\n",
        "!pip install -r requirements.txt"
      ],
      "execution_count": 6,
      "outputs": [
        {
          "output_type": "stream",
          "text": [
            "/content/yolov5\n",
            "Requirement already satisfied: Cython in /usr/local/lib/python3.6/dist-packages (from -r requirements.txt (line 4)) (0.29.21)\n",
            "Requirement already satisfied: matplotlib>=3.2.2 in /usr/local/lib/python3.6/dist-packages (from -r requirements.txt (line 5)) (3.2.2)\n",
            "Requirement already satisfied: numpy>=1.18.5 in /usr/local/lib/python3.6/dist-packages (from -r requirements.txt (line 6)) (1.18.5)\n",
            "Requirement already satisfied: opencv-python>=4.1.2 in /usr/local/lib/python3.6/dist-packages (from -r requirements.txt (line 7)) (4.1.2.30)\n",
            "Requirement already satisfied: Pillow in /usr/local/lib/python3.6/dist-packages (from -r requirements.txt (line 8)) (7.0.0)\n",
            "Collecting PyYAML>=5.3\n",
            "\u001b[?25l  Downloading https://files.pythonhosted.org/packages/64/c2/b80047c7ac2478f9501676c988a5411ed5572f35d1beff9cae07d321512c/PyYAML-5.3.1.tar.gz (269kB)\n",
            "\u001b[K     |████████████████████████████████| 276kB 10.1MB/s \n",
            "\u001b[?25hRequirement already satisfied: scipy>=1.4.1 in /usr/local/lib/python3.6/dist-packages (from -r requirements.txt (line 10)) (1.4.1)\n",
            "Requirement already satisfied: tensorboard>=2.2 in /usr/local/lib/python3.6/dist-packages (from -r requirements.txt (line 11)) (2.3.0)\n",
            "Requirement already satisfied: torch>=1.6.0 in /usr/local/lib/python3.6/dist-packages (from -r requirements.txt (line 12)) (1.7.0+cu101)\n",
            "Requirement already satisfied: torchvision>=0.7.0 in /usr/local/lib/python3.6/dist-packages (from -r requirements.txt (line 13)) (0.8.1+cu101)\n",
            "Requirement already satisfied: tqdm>=4.41.0 in /usr/local/lib/python3.6/dist-packages (from -r requirements.txt (line 14)) (4.41.1)\n",
            "Requirement already satisfied: seaborn in /usr/local/lib/python3.6/dist-packages (from -r requirements.txt (line 20)) (0.11.0)\n",
            "Requirement already satisfied: pandas in /usr/local/lib/python3.6/dist-packages (from -r requirements.txt (line 21)) (1.1.4)\n",
            "Requirement already satisfied: python-dateutil>=2.1 in /usr/local/lib/python3.6/dist-packages (from matplotlib>=3.2.2->-r requirements.txt (line 5)) (2.8.1)\n",
            "Requirement already satisfied: pyparsing!=2.0.4,!=2.1.2,!=2.1.6,>=2.0.1 in /usr/local/lib/python3.6/dist-packages (from matplotlib>=3.2.2->-r requirements.txt (line 5)) (2.4.7)\n",
            "Requirement already satisfied: kiwisolver>=1.0.1 in /usr/local/lib/python3.6/dist-packages (from matplotlib>=3.2.2->-r requirements.txt (line 5)) (1.3.1)\n",
            "Requirement already satisfied: cycler>=0.10 in /usr/local/lib/python3.6/dist-packages (from matplotlib>=3.2.2->-r requirements.txt (line 5)) (0.10.0)\n",
            "Requirement already satisfied: protobuf>=3.6.0 in /usr/local/lib/python3.6/dist-packages (from tensorboard>=2.2->-r requirements.txt (line 11)) (3.12.4)\n",
            "Requirement already satisfied: wheel>=0.26; python_version >= \"3\" in /usr/local/lib/python3.6/dist-packages (from tensorboard>=2.2->-r requirements.txt (line 11)) (0.35.1)\n",
            "Requirement already satisfied: absl-py>=0.4 in /usr/local/lib/python3.6/dist-packages (from tensorboard>=2.2->-r requirements.txt (line 11)) (0.10.0)\n",
            "Requirement already satisfied: six>=1.10.0 in /usr/local/lib/python3.6/dist-packages (from tensorboard>=2.2->-r requirements.txt (line 11)) (1.15.0)\n",
            "Requirement already satisfied: google-auth<2,>=1.6.3 in /usr/local/lib/python3.6/dist-packages (from tensorboard>=2.2->-r requirements.txt (line 11)) (1.17.2)\n",
            "Requirement already satisfied: tensorboard-plugin-wit>=1.6.0 in /usr/local/lib/python3.6/dist-packages (from tensorboard>=2.2->-r requirements.txt (line 11)) (1.7.0)\n",
            "Requirement already satisfied: werkzeug>=0.11.15 in /usr/local/lib/python3.6/dist-packages (from tensorboard>=2.2->-r requirements.txt (line 11)) (1.0.1)\n",
            "Requirement already satisfied: setuptools>=41.0.0 in /usr/local/lib/python3.6/dist-packages (from tensorboard>=2.2->-r requirements.txt (line 11)) (50.3.2)\n",
            "Requirement already satisfied: requests<3,>=2.21.0 in /usr/local/lib/python3.6/dist-packages (from tensorboard>=2.2->-r requirements.txt (line 11)) (2.23.0)\n",
            "Requirement already satisfied: markdown>=2.6.8 in /usr/local/lib/python3.6/dist-packages (from tensorboard>=2.2->-r requirements.txt (line 11)) (3.3.3)\n",
            "Requirement already satisfied: grpcio>=1.24.3 in /usr/local/lib/python3.6/dist-packages (from tensorboard>=2.2->-r requirements.txt (line 11)) (1.33.2)\n",
            "Requirement already satisfied: google-auth-oauthlib<0.5,>=0.4.1 in /usr/local/lib/python3.6/dist-packages (from tensorboard>=2.2->-r requirements.txt (line 11)) (0.4.2)\n",
            "Requirement already satisfied: typing-extensions in /usr/local/lib/python3.6/dist-packages (from torch>=1.6.0->-r requirements.txt (line 12)) (3.7.4.3)\n",
            "Requirement already satisfied: future in /usr/local/lib/python3.6/dist-packages (from torch>=1.6.0->-r requirements.txt (line 12)) (0.16.0)\n",
            "Requirement already satisfied: dataclasses in /usr/local/lib/python3.6/dist-packages (from torch>=1.6.0->-r requirements.txt (line 12)) (0.8)\n",
            "Requirement already satisfied: pytz>=2017.2 in /usr/local/lib/python3.6/dist-packages (from pandas->-r requirements.txt (line 21)) (2018.9)\n",
            "Requirement already satisfied: pyasn1-modules>=0.2.1 in /usr/local/lib/python3.6/dist-packages (from google-auth<2,>=1.6.3->tensorboard>=2.2->-r requirements.txt (line 11)) (0.2.8)\n",
            "Requirement already satisfied: rsa<5,>=3.1.4; python_version >= \"3\" in /usr/local/lib/python3.6/dist-packages (from google-auth<2,>=1.6.3->tensorboard>=2.2->-r requirements.txt (line 11)) (4.6)\n",
            "Requirement already satisfied: cachetools<5.0,>=2.0.0 in /usr/local/lib/python3.6/dist-packages (from google-auth<2,>=1.6.3->tensorboard>=2.2->-r requirements.txt (line 11)) (4.1.1)\n",
            "Requirement already satisfied: chardet<4,>=3.0.2 in /usr/local/lib/python3.6/dist-packages (from requests<3,>=2.21.0->tensorboard>=2.2->-r requirements.txt (line 11)) (3.0.4)\n",
            "Requirement already satisfied: idna<3,>=2.5 in /usr/local/lib/python3.6/dist-packages (from requests<3,>=2.21.0->tensorboard>=2.2->-r requirements.txt (line 11)) (2.10)\n",
            "Requirement already satisfied: certifi>=2017.4.17 in /usr/local/lib/python3.6/dist-packages (from requests<3,>=2.21.0->tensorboard>=2.2->-r requirements.txt (line 11)) (2020.11.8)\n",
            "Requirement already satisfied: urllib3!=1.25.0,!=1.25.1,<1.26,>=1.21.1 in /usr/local/lib/python3.6/dist-packages (from requests<3,>=2.21.0->tensorboard>=2.2->-r requirements.txt (line 11)) (1.24.3)\n",
            "Requirement already satisfied: importlib-metadata; python_version < \"3.8\" in /usr/local/lib/python3.6/dist-packages (from markdown>=2.6.8->tensorboard>=2.2->-r requirements.txt (line 11)) (2.0.0)\n",
            "Requirement already satisfied: requests-oauthlib>=0.7.0 in /usr/local/lib/python3.6/dist-packages (from google-auth-oauthlib<0.5,>=0.4.1->tensorboard>=2.2->-r requirements.txt (line 11)) (1.3.0)\n",
            "Requirement already satisfied: pyasn1<0.5.0,>=0.4.6 in /usr/local/lib/python3.6/dist-packages (from pyasn1-modules>=0.2.1->google-auth<2,>=1.6.3->tensorboard>=2.2->-r requirements.txt (line 11)) (0.4.8)\n",
            "Requirement already satisfied: zipp>=0.5 in /usr/local/lib/python3.6/dist-packages (from importlib-metadata; python_version < \"3.8\"->markdown>=2.6.8->tensorboard>=2.2->-r requirements.txt (line 11)) (3.4.0)\n",
            "Requirement already satisfied: oauthlib>=3.0.0 in /usr/local/lib/python3.6/dist-packages (from requests-oauthlib>=0.7.0->google-auth-oauthlib<0.5,>=0.4.1->tensorboard>=2.2->-r requirements.txt (line 11)) (3.1.0)\n",
            "Building wheels for collected packages: PyYAML\n",
            "  Building wheel for PyYAML (setup.py) ... \u001b[?25l\u001b[?25hdone\n",
            "  Created wheel for PyYAML: filename=PyYAML-5.3.1-cp36-cp36m-linux_x86_64.whl size=44619 sha256=d97a79552fdc9f8b19279487a8911d42799508a5341e01d6e585c3d435f117eb\n",
            "  Stored in directory: /root/.cache/pip/wheels/a7/c1/ea/cf5bd31012e735dc1dfea3131a2d5eae7978b251083d6247bd\n",
            "Successfully built PyYAML\n",
            "Installing collected packages: PyYAML\n",
            "  Found existing installation: PyYAML 3.13\n",
            "    Uninstalling PyYAML-3.13:\n",
            "      Successfully uninstalled PyYAML-3.13\n",
            "Successfully installed PyYAML-5.3.1\n"
          ],
          "name": "stdout"
        }
      ]
    },
    {
      "cell_type": "code",
      "metadata": {
        "colab": {
          "base_uri": "https://localhost:8080/"
        },
        "id": "Fg_0ACMc_KL6",
        "outputId": "6ce95fbe-a6c0-4759-bbdb-3132fe3c290c"
      },
      "source": [
        "%cat /content/dataset/data.yaml"
      ],
      "execution_count": 7,
      "outputs": [
        {
          "output_type": "stream",
          "text": [
            "train: ../train/images\n",
            "val: ../valid/images\n",
            "\n",
            "nc: 1\n",
            "names: ['pistol']"
          ],
          "name": "stdout"
        }
      ]
    },
    {
      "cell_type": "code",
      "metadata": {
        "colab": {
          "base_uri": "https://localhost:8080/"
        },
        "id": "UoVHVsZU_7Rk",
        "outputId": "5d3cd283-74bb-416b-84ce-40e29eac2fe7"
      },
      "source": [
        "%cd/\n",
        "from glob import glob\n",
        "img_list = glob('/content/dataset/export/images/*.jpg')\n",
        "print(len(img_list))"
      ],
      "execution_count": 8,
      "outputs": [
        {
          "output_type": "stream",
          "text": [
            "/\n",
            "2971\n"
          ],
          "name": "stdout"
        }
      ]
    },
    {
      "cell_type": "code",
      "metadata": {
        "colab": {
          "base_uri": "https://localhost:8080/"
        },
        "id": "j0kjr6naATbI",
        "outputId": "7fe854af-fe0a-46fe-b013-3d6d1e372437"
      },
      "source": [
        "from sklearn.model_selection import train_test_split\n",
        "train_img_list, val_img_list = train_test_split(img_list, test_size=0.2, random_state=2000)\n",
        "print(len(train_img_list), len(val_img_list))"
      ],
      "execution_count": 9,
      "outputs": [
        {
          "output_type": "stream",
          "text": [
            "2376 595\n"
          ],
          "name": "stdout"
        }
      ]
    },
    {
      "cell_type": "code",
      "metadata": {
        "id": "1hg6JxiiAzlJ"
      },
      "source": [
        "with open('/content/dataset/train.txt', 'w') as f:\n",
        "  f.write('\\n'.join(train_img_list) + '\\n')\n",
        "with open('/content/dataset/val.txt','w') as f:\n",
        "  f.write('\\n'.join(val_img_list)+'\\n')"
      ],
      "execution_count": 13,
      "outputs": []
    },
    {
      "cell_type": "code",
      "metadata": {
        "colab": {
          "base_uri": "https://localhost:8080/"
        },
        "id": "vbNJ4CLlB0p5",
        "outputId": "ddb41175-fc6f-4de5-8a81-7982e75dc647"
      },
      "source": [
        "import yaml\n",
        "with open('/content/dataset/data.yaml', 'r') as f:\n",
        "  data = yaml.load(f)\n",
        "print(data)\n",
        "\n",
        "data['train'] = '/content/dataset/train.txt'\n",
        "data['val'] = '/content/dataset/val.txt'\n",
        "\n",
        "with open('/content/dataset/data.yaml', 'w') as f:\n",
        "  yaml.dump(data, f)\n",
        "\n",
        "  print(data)"
      ],
      "execution_count": 14,
      "outputs": [
        {
          "output_type": "stream",
          "text": [
            "{'train': '../train/images', 'val': '../valid/images', 'nc': 1, 'names': ['pistol']}\n",
            "{'train': '/content/dataset/train.txt', 'val': '/content/dataset/val.txt', 'nc': 1, 'names': ['pistol']}\n"
          ],
          "name": "stdout"
        },
        {
          "output_type": "stream",
          "text": [
            "/usr/local/lib/python3.6/dist-packages/ipykernel_launcher.py:3: YAMLLoadWarning: calling yaml.load() without Loader=... is deprecated, as the default Loader is unsafe. Please read https://msg.pyyaml.org/load for full details.\n",
            "  This is separate from the ipykernel package so we can avoid doing imports until\n"
          ],
          "name": "stderr"
        }
      ]
    },
    {
      "cell_type": "code",
      "metadata": {
        "colab": {
          "base_uri": "https://localhost:8080/"
        },
        "id": "HEUvXdtiCiBY",
        "outputId": "7f851833-e84b-44ee-e90a-b77c9122bc17"
      },
      "source": [
        "%cd /content/yolov5/\n",
        "!python train.py --img 416 --batch 16 --epochs 50 --data /content/dataset/data.yaml --cfg ./models/yolov5s.yaml --weights yolov5s.pt --name gun_yolov5s_results"
      ],
      "execution_count": 15,
      "outputs": [
        {
          "output_type": "stream",
          "text": [
            "/content/yolov5\n",
            "Using torch 1.7.0+cu101 CUDA:0 (Tesla K80, 11441MB)\n",
            "\n",
            "Namespace(adam=False, batch_size=16, bucket='', cache_images=False, cfg='./models/yolov5s.yaml', data='/content/dataset/data.yaml', device='', epochs=50, evolve=False, exist_ok=False, global_rank=-1, hyp='data/hyp.scratch.yaml', image_weights=False, img_size=[416, 416], local_rank=-1, log_imgs=16, multi_scale=False, name='gun_yolov5s_results', noautoanchor=False, nosave=False, notest=False, project='runs/train', rect=False, resume=False, save_dir='runs/train/gun_yolov5s_results', single_cls=False, sync_bn=False, total_batch_size=16, weights='yolov5s.pt', workers=8, world_size=1)\n",
            "Start Tensorboard with \"tensorboard --logdir runs/train\", view at http://localhost:6006/\n",
            "2020-12-08 15:50:46.134285: I tensorflow/stream_executor/platform/default/dso_loader.cc:48] Successfully opened dynamic library libcudart.so.10.1\n",
            "Hyperparameters {'lr0': 0.01, 'lrf': 0.2, 'momentum': 0.937, 'weight_decay': 0.0005, 'warmup_epochs': 3.0, 'warmup_momentum': 0.8, 'warmup_bias_lr': 0.1, 'box': 0.05, 'cls': 0.5, 'cls_pw': 1.0, 'obj': 1.0, 'obj_pw': 1.0, 'iou_t': 0.2, 'anchor_t': 4.0, 'fl_gamma': 0.0, 'hsv_h': 0.015, 'hsv_s': 0.7, 'hsv_v': 0.4, 'degrees': 0.0, 'translate': 0.1, 'scale': 0.5, 'shear': 0.0, 'perspective': 0.0, 'flipud': 0.0, 'fliplr': 0.5, 'mosaic': 1.0, 'mixup': 0.0}\n",
            "Downloading https://github.com/ultralytics/yolov5/releases/download/v3.1/yolov5s.pt to yolov5s.pt...\n",
            "100% 14.5M/14.5M [00:00<00:00, 15.3MB/s]\n",
            "\n",
            "Overriding model.yaml nc=80 with nc=1\n",
            "\n",
            "                 from  n    params  module                                  arguments                     \n",
            "  0                -1  1      3520  models.common.Focus                     [3, 32, 3]                    \n",
            "  1                -1  1     18560  models.common.Conv                      [32, 64, 3, 2]                \n",
            "  2                -1  1     19904  models.common.BottleneckCSP             [64, 64, 1]                   \n",
            "  3                -1  1     73984  models.common.Conv                      [64, 128, 3, 2]               \n",
            "  4                -1  1    161152  models.common.BottleneckCSP             [128, 128, 3]                 \n",
            "  5                -1  1    295424  models.common.Conv                      [128, 256, 3, 2]              \n",
            "  6                -1  1    641792  models.common.BottleneckCSP             [256, 256, 3]                 \n",
            "  7                -1  1   1180672  models.common.Conv                      [256, 512, 3, 2]              \n",
            "  8                -1  1    656896  models.common.SPP                       [512, 512, [5, 9, 13]]        \n",
            "  9                -1  1   1248768  models.common.BottleneckCSP             [512, 512, 1, False]          \n",
            " 10                -1  1    131584  models.common.Conv                      [512, 256, 1, 1]              \n",
            " 11                -1  1         0  torch.nn.modules.upsampling.Upsample    [None, 2, 'nearest']          \n",
            " 12           [-1, 6]  1         0  models.common.Concat                    [1]                           \n",
            " 13                -1  1    378624  models.common.BottleneckCSP             [512, 256, 1, False]          \n",
            " 14                -1  1     33024  models.common.Conv                      [256, 128, 1, 1]              \n",
            " 15                -1  1         0  torch.nn.modules.upsampling.Upsample    [None, 2, 'nearest']          \n",
            " 16           [-1, 4]  1         0  models.common.Concat                    [1]                           \n",
            " 17                -1  1     95104  models.common.BottleneckCSP             [256, 128, 1, False]          \n",
            " 18                -1  1    147712  models.common.Conv                      [128, 128, 3, 2]              \n",
            " 19          [-1, 14]  1         0  models.common.Concat                    [1]                           \n",
            " 20                -1  1    313088  models.common.BottleneckCSP             [256, 256, 1, False]          \n",
            " 21                -1  1    590336  models.common.Conv                      [256, 256, 3, 2]              \n",
            " 22          [-1, 10]  1         0  models.common.Concat                    [1]                           \n",
            " 23                -1  1   1248768  models.common.BottleneckCSP             [512, 512, 1, False]          \n",
            " 24      [17, 20, 23]  1     16182  models.yolo.Detect                      [1, [[10, 13, 16, 30, 33, 23], [30, 61, 62, 45, 59, 119], [116, 90, 156, 198, 373, 326]], [128, 256, 512]]\n",
            "Model Summary: 283 layers, 7255094 parameters, 7255094 gradients\n",
            "\n",
            "Transferred 362/370 items from yolov5s.pt\n",
            "Optimizer groups: 62 .bias, 70 conv.weight, 59 other\n",
            "Scanning '/content/dataset/export/labels' for images and labels... 2376 found, 0 missing, 0 empty, 0 corrupted: 100% 2376/2376 [00:00<00:00, 2700.96it/s]\n",
            "New cache created: /content/dataset/export/labels.cache\n",
            "Scanning '/content/dataset/export/labels.cache' for images and labels... 2376 found, 0 missing, 0 empty, 0 corrupted: 100% 2376/2376 [00:00<00:00, 25039362.57it/s]\n",
            "Scanning '/content/dataset/export/labels' for images and labels... 595 found, 0 missing, 0 empty, 0 corrupted: 100% 595/595 [00:00<00:00, 1315.12it/s]\n",
            "New cache created: /content/dataset/export/labels.cache\n",
            "Scanning '/content/dataset/export/labels.cache' for images and labels... 595 found, 0 missing, 0 empty, 0 corrupted: 100% 595/595 [00:00<00:00, 5031473.55it/s]\n",
            "\n",
            "Analyzing anchors... anchors/target = 3.89, Best Possible Recall (BPR) = 1.0000\n",
            "Image sizes 416 train, 416 test\n",
            "Using 2 dataloader workers\n",
            "Logging results to runs/train/gun_yolov5s_results\n",
            "Starting training for 50 epochs...\n",
            "\n",
            "     Epoch   gpu_mem       box       obj       cls     total   targets  img_size\n",
            "  0% 0/149 [00:00<?, ?it/s]NumExpr defaulting to 2 threads.\n",
            "      0/49     1.85G   0.09189   0.04831         0    0.1402        22       416: 100% 149/149 [01:14<00:00,  2.01it/s]\n",
            "               Class      Images     Targets           P           R      mAP@.5  mAP@.5:.95: 100% 38/38 [00:09<00:00,  4.03it/s]\n",
            "                 all         595         706       0.163       0.705        0.44       0.189\n",
            "\n",
            "     Epoch   gpu_mem       box       obj       cls     total   targets  img_size\n",
            "      1/49     1.87G   0.05927   0.04374         0     0.103        17       416: 100% 149/149 [01:04<00:00,  2.32it/s]\n",
            "               Class      Images     Targets           P           R      mAP@.5  mAP@.5:.95: 100% 38/38 [00:07<00:00,  4.75it/s]\n",
            "                 all         595         706       0.262       0.824       0.601       0.288\n",
            "\n",
            "     Epoch   gpu_mem       box       obj       cls     total   targets  img_size\n",
            "      2/49     1.87G    0.0513   0.03861         0   0.08991        16       416: 100% 149/149 [01:04<00:00,  2.31it/s]\n",
            "               Class      Images     Targets           P           R      mAP@.5  mAP@.5:.95: 100% 38/38 [00:07<00:00,  4.78it/s]\n",
            "                 all         595         706       0.398        0.82       0.654       0.329\n",
            "\n",
            "     Epoch   gpu_mem       box       obj       cls     total   targets  img_size\n",
            "      3/49     1.87G   0.04786   0.03747         0   0.08533        19       416: 100% 149/149 [01:03<00:00,  2.34it/s]\n",
            "               Class      Images     Targets           P           R      mAP@.5  mAP@.5:.95: 100% 38/38 [00:07<00:00,  4.77it/s]\n",
            "                 all         595         706       0.492       0.827       0.792       0.437\n",
            "\n",
            "     Epoch   gpu_mem       box       obj       cls     total   targets  img_size\n",
            "      4/49     1.87G   0.04462   0.03679         0   0.08141        20       416: 100% 149/149 [01:03<00:00,  2.35it/s]\n",
            "               Class      Images     Targets           P           R      mAP@.5  mAP@.5:.95: 100% 38/38 [00:07<00:00,  4.78it/s]\n",
            "                 all         595         706       0.545       0.807       0.761       0.442\n",
            "\n",
            "     Epoch   gpu_mem       box       obj       cls     total   targets  img_size\n",
            "      5/49     1.87G   0.04324   0.03748         0   0.08072        17       416: 100% 149/149 [01:02<00:00,  2.37it/s]\n",
            "               Class      Images     Targets           P           R      mAP@.5  mAP@.5:.95: 100% 38/38 [00:07<00:00,  4.84it/s]\n",
            "                 all         595         706       0.465       0.822       0.753       0.374\n",
            "\n",
            "     Epoch   gpu_mem       box       obj       cls     total   targets  img_size\n",
            "      6/49     1.87G   0.04314    0.0383         0   0.08143        28       416: 100% 149/149 [01:02<00:00,  2.37it/s]\n",
            "               Class      Images     Targets           P           R      mAP@.5  mAP@.5:.95: 100% 38/38 [00:07<00:00,  4.83it/s]\n",
            "                 all         595         706       0.347       0.853       0.701       0.386\n",
            "\n",
            "     Epoch   gpu_mem       box       obj       cls     total   targets  img_size\n",
            "      7/49     1.87G   0.04213   0.03909         0   0.08122        18       416: 100% 149/149 [01:02<00:00,  2.39it/s]\n",
            "               Class      Images     Targets           P           R      mAP@.5  mAP@.5:.95: 100% 38/38 [00:07<00:00,  4.81it/s]\n",
            "                 all         595         706       0.427       0.771       0.728       0.437\n",
            "\n",
            "     Epoch   gpu_mem       box       obj       cls     total   targets  img_size\n",
            "      8/49     1.87G   0.04035   0.03887         0   0.07922        16       416: 100% 149/149 [01:02<00:00,  2.39it/s]\n",
            "               Class      Images     Targets           P           R      mAP@.5  mAP@.5:.95: 100% 38/38 [00:07<00:00,  4.79it/s]\n",
            "                 all         595         706       0.415       0.841       0.799       0.506\n",
            "\n",
            "     Epoch   gpu_mem       box       obj       cls     total   targets  img_size\n",
            "      9/49     1.87G   0.03903   0.03811         0   0.07714        18       416: 100% 149/149 [01:02<00:00,  2.40it/s]\n",
            "               Class      Images     Targets           P           R      mAP@.5  mAP@.5:.95: 100% 38/38 [00:07<00:00,  4.78it/s]\n",
            "                 all         595         706       0.418        0.86       0.805       0.494\n",
            "\n",
            "     Epoch   gpu_mem       box       obj       cls     total   targets  img_size\n",
            "     10/49     1.87G   0.03898   0.03688         0   0.07586        17       416: 100% 149/149 [01:02<00:00,  2.39it/s]\n",
            "               Class      Images     Targets           P           R      mAP@.5  mAP@.5:.95: 100% 38/38 [00:07<00:00,  4.78it/s]\n",
            "                 all         595         706       0.235       0.816       0.732       0.442\n",
            "\n",
            "     Epoch   gpu_mem       box       obj       cls     total   targets  img_size\n",
            "     11/49     1.87G   0.03766   0.03556         0   0.07322        13       416: 100% 149/149 [01:02<00:00,  2.39it/s]\n",
            "               Class      Images     Targets           P           R      mAP@.5  mAP@.5:.95: 100% 38/38 [00:07<00:00,  4.78it/s]\n",
            "                 all         595         706         0.6       0.812       0.821       0.524\n",
            "\n",
            "     Epoch   gpu_mem       box       obj       cls     total   targets  img_size\n",
            "     12/49     1.87G   0.03675   0.03515         0   0.07189        20       416: 100% 149/149 [01:02<00:00,  2.39it/s]\n",
            "               Class      Images     Targets           P           R      mAP@.5  mAP@.5:.95: 100% 38/38 [00:07<00:00,  4.82it/s]\n",
            "                 all         595         706       0.584       0.846       0.834       0.549\n",
            "\n",
            "     Epoch   gpu_mem       box       obj       cls     total   targets  img_size\n",
            "     13/49     1.87G   0.03599   0.03567         0   0.07166        12       416: 100% 149/149 [01:02<00:00,  2.38it/s]\n",
            "               Class      Images     Targets           P           R      mAP@.5  mAP@.5:.95: 100% 38/38 [00:07<00:00,  4.82it/s]\n",
            "                 all         595         706       0.549       0.889       0.856       0.538\n",
            "\n",
            "     Epoch   gpu_mem       box       obj       cls     total   targets  img_size\n",
            "     14/49     1.87G   0.03532   0.03451         0   0.06983        20       416: 100% 149/149 [01:02<00:00,  2.39it/s]\n",
            "               Class      Images     Targets           P           R      mAP@.5  mAP@.5:.95: 100% 38/38 [00:07<00:00,  4.81it/s]\n",
            "                 all         595         706       0.657       0.827       0.841       0.554\n",
            "\n",
            "     Epoch   gpu_mem       box       obj       cls     total   targets  img_size\n",
            "     15/49     1.87G   0.03443   0.03429         0   0.06872        19       416: 100% 149/149 [01:02<00:00,  2.39it/s]\n",
            "               Class      Images     Targets           P           R      mAP@.5  mAP@.5:.95: 100% 38/38 [00:07<00:00,  4.82it/s]\n",
            "                 all         595         706       0.589       0.875       0.859        0.55\n",
            "\n",
            "     Epoch   gpu_mem       box       obj       cls     total   targets  img_size\n",
            "     16/49     1.87G   0.03402   0.03465         0   0.06868        16       416: 100% 149/149 [01:02<00:00,  2.39it/s]\n",
            "               Class      Images     Targets           P           R      mAP@.5  mAP@.5:.95: 100% 38/38 [00:07<00:00,  4.82it/s]\n",
            "                 all         595         706       0.589        0.86       0.847        0.55\n",
            "\n",
            "     Epoch   gpu_mem       box       obj       cls     total   targets  img_size\n",
            "     17/49     1.87G   0.03346   0.03436         0   0.06782        17       416: 100% 149/149 [01:02<00:00,  2.39it/s]\n",
            "               Class      Images     Targets           P           R      mAP@.5  mAP@.5:.95: 100% 38/38 [00:07<00:00,  4.81it/s]\n",
            "                 all         595         706       0.599       0.895       0.874       0.575\n",
            "\n",
            "     Epoch   gpu_mem       box       obj       cls     total   targets  img_size\n",
            "     18/49     1.87G    0.0329   0.03272         0   0.06562        18       416: 100% 149/149 [01:02<00:00,  2.40it/s]\n",
            "               Class      Images     Targets           P           R      mAP@.5  mAP@.5:.95: 100% 38/38 [00:07<00:00,  4.80it/s]\n",
            "                 all         595         706       0.587       0.887       0.868       0.564\n",
            "\n",
            "     Epoch   gpu_mem       box       obj       cls     total   targets  img_size\n",
            "     19/49     1.87G    0.0327   0.03295         0   0.06565        30       416: 100% 149/149 [01:02<00:00,  2.39it/s]\n",
            "               Class      Images     Targets           P           R      mAP@.5  mAP@.5:.95: 100% 38/38 [00:07<00:00,  4.84it/s]\n",
            "                 all         595         706       0.569        0.87       0.835       0.523\n",
            "\n",
            "     Epoch   gpu_mem       box       obj       cls     total   targets  img_size\n",
            "     20/49     1.87G   0.03159   0.03197         0   0.06356        16       416: 100% 149/149 [01:02<00:00,  2.38it/s]\n",
            "               Class      Images     Targets           P           R      mAP@.5  mAP@.5:.95: 100% 38/38 [00:07<00:00,  4.83it/s]\n",
            "                 all         595         706       0.596       0.895       0.872       0.544\n",
            "\n",
            "     Epoch   gpu_mem       box       obj       cls     total   targets  img_size\n",
            "     21/49     1.87G     0.032   0.03302         0   0.06502        15       416: 100% 149/149 [01:02<00:00,  2.39it/s]\n",
            "               Class      Images     Targets           P           R      mAP@.5  mAP@.5:.95: 100% 38/38 [00:07<00:00,  4.82it/s]\n",
            "                 all         595         706       0.594       0.882       0.865        0.56\n",
            "\n",
            "     Epoch   gpu_mem       box       obj       cls     total   targets  img_size\n",
            "     22/49     1.87G   0.03115   0.03173         0   0.06288        15       416: 100% 149/149 [01:02<00:00,  2.39it/s]\n",
            "               Class      Images     Targets           P           R      mAP@.5  mAP@.5:.95: 100% 38/38 [00:07<00:00,  4.83it/s]\n",
            "                 all         595         706       0.593       0.877       0.853       0.574\n",
            "\n",
            "     Epoch   gpu_mem       box       obj       cls     total   targets  img_size\n",
            "     23/49     1.87G   0.03094   0.03237         0   0.06331        23       416: 100% 149/149 [01:02<00:00,  2.38it/s]\n",
            "               Class      Images     Targets           P           R      mAP@.5  mAP@.5:.95: 100% 38/38 [00:07<00:00,  4.78it/s]\n",
            "                 all         595         706       0.611       0.891       0.879       0.595\n",
            "\n",
            "     Epoch   gpu_mem       box       obj       cls     total   targets  img_size\n",
            "     24/49     1.87G   0.02969   0.03091         0   0.06061        19       416: 100% 149/149 [01:02<00:00,  2.38it/s]\n",
            "               Class      Images     Targets           P           R      mAP@.5  mAP@.5:.95: 100% 38/38 [00:07<00:00,  4.85it/s]\n",
            "                 all         595         706       0.706       0.852       0.867       0.586\n",
            "\n",
            "     Epoch   gpu_mem       box       obj       cls     total   targets  img_size\n",
            "     25/49     1.87G   0.02988   0.03137         0   0.06125        15       416: 100% 149/149 [01:02<00:00,  2.39it/s]\n",
            "               Class      Images     Targets           P           R      mAP@.5  mAP@.5:.95: 100% 38/38 [00:07<00:00,  4.84it/s]\n",
            "                 all         595         706       0.625       0.891       0.882       0.613\n",
            "\n",
            "     Epoch   gpu_mem       box       obj       cls     total   targets  img_size\n",
            "     26/49     1.87G   0.03043   0.03121         0   0.06164        15       416: 100% 149/149 [01:02<00:00,  2.39it/s]\n",
            "               Class      Images     Targets           P           R      mAP@.5  mAP@.5:.95: 100% 38/38 [00:07<00:00,  4.83it/s]\n",
            "                 all         595         706       0.652       0.883       0.881       0.615\n",
            "\n",
            "     Epoch   gpu_mem       box       obj       cls     total   targets  img_size\n",
            "     27/49     1.87G   0.02914   0.03057         0   0.05971        25       416: 100% 149/149 [01:02<00:00,  2.38it/s]\n",
            "               Class      Images     Targets           P           R      mAP@.5  mAP@.5:.95: 100% 38/38 [00:07<00:00,  4.82it/s]\n",
            "                 all         595         706       0.592       0.878       0.883       0.609\n",
            "\n",
            "     Epoch   gpu_mem       box       obj       cls     total   targets  img_size\n",
            "     28/49     1.87G   0.02919   0.02994         0   0.05913        25       416: 100% 149/149 [01:02<00:00,  2.38it/s]\n",
            "               Class      Images     Targets           P           R      mAP@.5  mAP@.5:.95: 100% 38/38 [00:07<00:00,  4.84it/s]\n",
            "                 all         595         706        0.74       0.869       0.882       0.606\n",
            "\n",
            "     Epoch   gpu_mem       box       obj       cls     total   targets  img_size\n",
            "     29/49     1.87G   0.02864   0.02969         0   0.05833        20       416: 100% 149/149 [01:02<00:00,  2.38it/s]\n",
            "               Class      Images     Targets           P           R      mAP@.5  mAP@.5:.95: 100% 38/38 [00:07<00:00,  4.79it/s]\n",
            "                 all         595         706       0.767       0.861       0.892        0.63\n",
            "\n",
            "     Epoch   gpu_mem       box       obj       cls     total   targets  img_size\n",
            "     30/49     1.87G   0.02788     0.029         0   0.05688        19       416: 100% 149/149 [01:02<00:00,  2.38it/s]\n",
            "               Class      Images     Targets           P           R      mAP@.5  mAP@.5:.95: 100% 38/38 [00:07<00:00,  4.78it/s]\n",
            "                 all         595         706       0.714        0.87       0.883       0.616\n",
            "\n",
            "     Epoch   gpu_mem       box       obj       cls     total   targets  img_size\n",
            "     31/49     1.87G   0.02784   0.02806         0    0.0559        18       416: 100% 149/149 [01:02<00:00,  2.39it/s]\n",
            "               Class      Images     Targets           P           R      mAP@.5  mAP@.5:.95: 100% 38/38 [00:07<00:00,  4.79it/s]\n",
            "                 all         595         706       0.699       0.884       0.891       0.626\n",
            "\n",
            "     Epoch   gpu_mem       box       obj       cls     total   targets  img_size\n",
            "     32/49     1.87G   0.02693   0.02852         0   0.05545        18       416: 100% 149/149 [01:02<00:00,  2.39it/s]\n",
            "               Class      Images     Targets           P           R      mAP@.5  mAP@.5:.95: 100% 38/38 [00:07<00:00,  4.80it/s]\n",
            "                 all         595         706       0.726       0.853       0.884       0.627\n",
            "\n",
            "     Epoch   gpu_mem       box       obj       cls     total   targets  img_size\n",
            "     33/49     1.87G   0.02745   0.02843         0   0.05588        15       416: 100% 149/149 [01:02<00:00,  2.38it/s]\n",
            "               Class      Images     Targets           P           R      mAP@.5  mAP@.5:.95: 100% 38/38 [00:07<00:00,  4.80it/s]\n",
            "                 all         595         706       0.713       0.885       0.882       0.625\n",
            "\n",
            "     Epoch   gpu_mem       box       obj       cls     total   targets  img_size\n",
            "     34/49     1.87G   0.02722   0.02819         0   0.05541        22       416: 100% 149/149 [01:02<00:00,  2.39it/s]\n",
            "               Class      Images     Targets           P           R      mAP@.5  mAP@.5:.95: 100% 38/38 [00:07<00:00,  4.85it/s]\n",
            "                 all         595         706       0.749       0.865       0.883       0.629\n",
            "\n",
            "     Epoch   gpu_mem       box       obj       cls     total   targets  img_size\n",
            "     35/49     1.87G   0.02659   0.02766         0   0.05426        19       416: 100% 149/149 [01:02<00:00,  2.38it/s]\n",
            "               Class      Images     Targets           P           R      mAP@.5  mAP@.5:.95: 100% 38/38 [00:07<00:00,  4.83it/s]\n",
            "                 all         595         706       0.731        0.87       0.891       0.642\n",
            "\n",
            "     Epoch   gpu_mem       box       obj       cls     total   targets  img_size\n",
            "     36/49     1.87G   0.02589   0.02728         0   0.05317        19       416: 100% 149/149 [01:02<00:00,  2.38it/s]\n",
            "               Class      Images     Targets           P           R      mAP@.5  mAP@.5:.95: 100% 38/38 [00:07<00:00,  4.81it/s]\n",
            "                 all         595         706       0.771       0.867       0.892       0.663\n",
            "\n",
            "     Epoch   gpu_mem       box       obj       cls     total   targets  img_size\n",
            "     37/49     1.87G   0.02589   0.02662         0   0.05251        16       416: 100% 149/149 [01:02<00:00,  2.39it/s]\n",
            "               Class      Images     Targets           P           R      mAP@.5  mAP@.5:.95: 100% 38/38 [00:07<00:00,  4.85it/s]\n",
            "                 all         595         706       0.782       0.864       0.897       0.663\n",
            "\n",
            "     Epoch   gpu_mem       box       obj       cls     total   targets  img_size\n",
            "     38/49     1.87G   0.02546   0.02724         0    0.0527        17       416: 100% 149/149 [01:02<00:00,  2.38it/s]\n",
            "               Class      Images     Targets           P           R      mAP@.5  mAP@.5:.95: 100% 38/38 [00:07<00:00,  4.85it/s]\n",
            "                 all         595         706       0.747       0.877       0.891       0.654\n",
            "\n",
            "     Epoch   gpu_mem       box       obj       cls     total   targets  img_size\n",
            "     39/49     1.87G   0.02489   0.02704         0   0.05193        22       416: 100% 149/149 [01:02<00:00,  2.38it/s]\n",
            "               Class      Images     Targets           P           R      mAP@.5  mAP@.5:.95: 100% 38/38 [00:07<00:00,  4.78it/s]\n",
            "                 all         595         706       0.753       0.868       0.895       0.648\n",
            "\n",
            "     Epoch   gpu_mem       box       obj       cls     total   targets  img_size\n",
            "     40/49     1.87G   0.02464   0.02702         0   0.05166        32       416: 100% 149/149 [01:02<00:00,  2.38it/s]\n",
            "               Class      Images     Targets           P           R      mAP@.5  mAP@.5:.95: 100% 38/38 [00:07<00:00,  4.82it/s]\n",
            "                 all         595         706       0.741       0.878       0.896       0.648\n",
            "\n",
            "     Epoch   gpu_mem       box       obj       cls     total   targets  img_size\n",
            "     41/49     1.87G   0.02508   0.02644         0   0.05152        25       416: 100% 149/149 [01:02<00:00,  2.39it/s]\n",
            "               Class      Images     Targets           P           R      mAP@.5  mAP@.5:.95: 100% 38/38 [00:07<00:00,  4.81it/s]\n",
            "                 all         595         706       0.744       0.867       0.888       0.656\n",
            "\n",
            "     Epoch   gpu_mem       box       obj       cls     total   targets  img_size\n",
            "     42/49     1.87G   0.02456   0.02666         0   0.05123        19       416: 100% 149/149 [01:02<00:00,  2.39it/s]\n",
            "               Class      Images     Targets           P           R      mAP@.5  mAP@.5:.95: 100% 38/38 [00:07<00:00,  4.78it/s]\n",
            "                 all         595         706       0.774       0.856       0.891       0.656\n",
            "\n",
            "     Epoch   gpu_mem       box       obj       cls     total   targets  img_size\n",
            "     43/49     1.87G   0.02471   0.02638         0   0.05109        22       416: 100% 149/149 [01:02<00:00,  2.39it/s]\n",
            "               Class      Images     Targets           P           R      mAP@.5  mAP@.5:.95: 100% 38/38 [00:07<00:00,  4.82it/s]\n",
            "                 all         595         706       0.737       0.881       0.895       0.652\n",
            "\n",
            "     Epoch   gpu_mem       box       obj       cls     total   targets  img_size\n",
            "     44/49     1.87G   0.02407   0.02583         0    0.0499        23       416: 100% 149/149 [01:02<00:00,  2.38it/s]\n",
            "               Class      Images     Targets           P           R      mAP@.5  mAP@.5:.95: 100% 38/38 [00:07<00:00,  4.82it/s]\n",
            "                 all         595         706       0.753       0.871       0.901       0.659\n",
            "\n",
            "     Epoch   gpu_mem       box       obj       cls     total   targets  img_size\n",
            "     45/49     1.87G   0.02421   0.02632         0   0.05053        16       416: 100% 149/149 [01:02<00:00,  2.38it/s]\n",
            "               Class      Images     Targets           P           R      mAP@.5  mAP@.5:.95: 100% 38/38 [00:07<00:00,  4.83it/s]\n",
            "                 all         595         706       0.814       0.873       0.906        0.67\n",
            "\n",
            "     Epoch   gpu_mem       box       obj       cls     total   targets  img_size\n",
            "     46/49     1.87G   0.02375    0.0253         0   0.04905        17       416: 100% 149/149 [01:02<00:00,  2.37it/s]\n",
            "               Class      Images     Targets           P           R      mAP@.5  mAP@.5:.95: 100% 38/38 [00:07<00:00,  4.78it/s]\n",
            "                 all         595         706       0.784       0.868       0.896       0.666\n",
            "\n",
            "     Epoch   gpu_mem       box       obj       cls     total   targets  img_size\n",
            "     47/49     1.87G   0.02372   0.02547         0   0.04919        19       416: 100% 149/149 [01:02<00:00,  2.39it/s]\n",
            "               Class      Images     Targets           P           R      mAP@.5  mAP@.5:.95: 100% 38/38 [00:07<00:00,  4.76it/s]\n",
            "                 all         595         706       0.775       0.858       0.888       0.663\n",
            "\n",
            "     Epoch   gpu_mem       box       obj       cls     total   targets  img_size\n",
            "     48/49     1.87G   0.02383   0.02505         0   0.04888        15       416: 100% 149/149 [01:02<00:00,  2.39it/s]\n",
            "               Class      Images     Targets           P           R      mAP@.5  mAP@.5:.95: 100% 38/38 [00:07<00:00,  4.84it/s]\n",
            "                 all         595         706       0.774        0.86       0.885       0.657\n",
            "\n",
            "     Epoch   gpu_mem       box       obj       cls     total   targets  img_size\n",
            "     49/49     1.87G    0.0236   0.02535         0   0.04895        12       416: 100% 149/149 [01:02<00:00,  2.37it/s]\n",
            "               Class      Images     Targets           P           R      mAP@.5  mAP@.5:.95: 100% 38/38 [00:09<00:00,  4.07it/s]\n",
            "                 all         595         706       0.817       0.861       0.897        0.67\n",
            "Optimizer stripped from runs/train/gun_yolov5s_results/weights/last.pt, 14.7MB\n",
            "Optimizer stripped from runs/train/gun_yolov5s_results/weights/best.pt, 14.7MB\n",
            "50 epochs completed in 0.989 hours.\n",
            "\n"
          ],
          "name": "stdout"
        }
      ]
    }
  ]
}